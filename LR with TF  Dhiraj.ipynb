{
 "cells": [
  {
   "cell_type": "code",
   "execution_count": 33,
   "metadata": {},
   "outputs": [],
   "source": [
    "import numpy as np\n",
    "import tensorflow as tf\n",
    "import matplotlib.pyplot as plt"
   ]
  },
  {
   "cell_type": "code",
   "execution_count": 34,
   "metadata": {},
   "outputs": [
    {
     "name": "stdout",
     "output_type": "stream",
     "text": [
      "2.0.0\n"
     ]
    }
   ],
   "source": [
    "print(tf.__version__)"
   ]
  },
  {
   "cell_type": "code",
   "execution_count": 35,
   "metadata": {},
   "outputs": [],
   "source": [
    "# actual weight = 2 and actual bias = 0.9\n",
    "x = np.linspace(0, 3, 120)\n",
    "y = 2 * x + 0.9 + np.random.randn(*x.shape) * 0.3"
   ]
  },
  {
   "cell_type": "code",
   "execution_count": 43,
   "metadata": {},
   "outputs": [
    {
     "data": {
      "text/plain": [
       "<matplotlib.collections.PathCollection at 0x18db1adc0f0>"
      ]
     },
     "execution_count": 43,
     "metadata": {},
     "output_type": "execute_result"
    },
    {
     "data": {
      "image/png": "[encoded data removed]",
      "text/plain": [
       "<Figure size 432x288 with 1 Axes>"
      ]
     },
     "metadata": {
      "needs_background": "light"
     },
     "output_type": "display_data"
    }
   ],
   "source": [
    "plt.scatter(x,y, label=\"input data set\")"
   ]
  },
  {
   "cell_type": "code",
   "execution_count": 37,
   "metadata": {},
   "outputs": [],
   "source": [
    "class LinearModel:\n",
    "    def __call__(self, x):\n",
    "        return self.Weight * x + self.Bias\n",
    "    \n",
    "    def __init__(self):\n",
    "        self.Weight = tf.Variable(11.0)\n",
    "        self.Bias = tf.Variable(12.0)\n",
    "\n",
    "    "
   ]
  },
  {
   "cell_type": "code",
   "execution_count": 49,
   "metadata": {},
   "outputs": [],
   "source": [
    "def loss(y, pred):\n",
    "    return tf.reduce_mean(tf.square(y - pred))\n",
    "\n",
    "def train(linear_model, x, y, lr=0.12):\n",
    "    with tf.GradientTape() as t:\n",
    "        current_loss = loss(y, linear_model(x))\n",
    "\n",
    "    lr_weight, lr_bias = t.gradient(current_loss, [linear_model.Weight, linear_model.Bias])\n",
    "    linear_model.Weight.assign_sub(lr * lr_weight)\n",
    "    linear_model.Bias.assign_sub(lr * lr_bias)"
   ]
  },
  {
   "cell_type": "code",
   "execution_count": 90,
   "metadata": {},
   "outputs": [
    {
     "name": "stdout",
     "output_type": "stream",
     "text": [
      "Epoch count 0: Loss value: 667.0184936523438\n",
      "Epoch count 1: Loss value: 10.704632759094238\n",
      "Epoch count 2: Loss value: 5.42146110534668\n",
      "Epoch count 3: Loss value: 4.890740871429443\n",
      "Epoch count 4: Loss value: 4.440497875213623\n",
      "Epoch count 5: Loss value: 4.032667636871338\n",
      "Epoch count 6: Loss value: 3.663055896759033\n",
      "Epoch count 7: Loss value: 3.3280789852142334\n",
      "Epoch count 8: Loss value: 3.024491548538208\n",
      "Epoch count 9: Loss value: 2.749352216720581\n",
      "Epoch count 10: Loss value: 2.499995231628418\n",
      "Epoch count 11: Loss value: 2.2740046977996826\n",
      "Epoch count 12: Loss value: 2.069190740585327\n",
      "Epoch count 13: Loss value: 1.883569359779358\n",
      "Epoch count 14: Loss value: 1.7153419256210327\n",
      "Epoch count 15: Loss value: 1.5628784894943237\n",
      "Epoch count 16: Loss value: 1.4247019290924072\n",
      "Epoch count 17: Loss value: 1.299473524093628\n",
      "Epoch count 18: Loss value: 1.185979962348938\n",
      "Epoch count 19: Loss value: 1.0831211805343628\n",
      "Epoch count 20: Loss value: 0.9899011850357056\n",
      "Epoch count 21: Loss value: 0.9054163694381714\n",
      "Epoch count 22: Loss value: 0.8288484811782837\n",
      "Epoch count 23: Loss value: 0.7594553828239441\n",
      "Epoch count 24: Loss value: 0.6965648531913757\n",
      "Epoch count 25: Loss value: 0.6395676732063293\n",
      "Epoch count 26: Loss value: 0.5879114866256714\n",
      "Epoch count 27: Loss value: 0.5410957932472229\n",
      "Epoch count 28: Loss value: 0.4986671507358551\n",
      "Epoch count 29: Loss value: 0.460214227437973\n",
      "Epoch count 30: Loss value: 0.4253646731376648\n",
      "Epoch count 31: Loss value: 0.39378073811531067\n",
      "Epoch count 32: Loss value: 0.365156352519989\n",
      "Epoch count 33: Loss value: 0.33921435475349426\n",
      "Epoch count 34: Loss value: 0.31570324301719666\n",
      "Epoch count 35: Loss value: 0.2943953275680542\n",
      "Epoch count 36: Loss value: 0.2750840485095978\n",
      "Epoch count 37: Loss value: 0.2575823664665222\n",
      "Epoch count 38: Loss value: 0.24172073602676392\n",
      "Epoch count 39: Loss value: 0.22734545171260834\n",
      "Epoch count 40: Loss value: 0.2143172323703766\n",
      "Epoch count 41: Loss value: 0.2025098353624344\n",
      "Epoch count 42: Loss value: 0.19180884957313538\n",
      "Epoch count 43: Loss value: 0.18211062252521515\n",
      "Epoch count 44: Loss value: 0.1733211874961853\n",
      "Epoch count 45: Loss value: 0.1653553694486618\n",
      "Epoch count 46: Loss value: 0.1581360250711441\n",
      "Epoch count 47: Loss value: 0.1515931785106659\n",
      "Epoch count 48: Loss value: 0.14566342532634735\n",
      "Epoch count 49: Loss value: 0.1402893364429474\n",
      "Epoch count 50: Loss value: 0.13541880249977112\n",
      "Epoch count 51: Loss value: 0.13100475072860718\n",
      "Epoch count 52: Loss value: 0.12700428068637848\n",
      "Epoch count 53: Loss value: 0.12337865680456161\n",
      "Epoch count 54: Loss value: 0.12009275704622269\n",
      "Epoch count 55: Loss value: 0.11711479723453522\n",
      "Epoch count 56: Loss value: 0.11441591382026672\n",
      "Epoch count 57: Loss value: 0.11196992546319962\n",
      "Epoch count 58: Loss value: 0.10975315421819687\n",
      "Epoch count 59: Loss value: 0.10774408280849457\n",
      "Epoch count 60: Loss value: 0.10592327266931534\n",
      "Epoch count 61: Loss value: 0.10427311807870865\n",
      "Epoch count 62: Loss value: 0.10277756303548813\n",
      "Epoch count 63: Loss value: 0.10142217576503754\n",
      "Epoch count 64: Loss value: 0.10019378364086151\n",
      "Epoch count 65: Loss value: 0.09908048063516617\n",
      "Epoch count 66: Loss value: 0.09807153046131134\n",
      "Epoch count 67: Loss value: 0.09715712815523148\n",
      "Epoch count 68: Loss value: 0.09632841497659683\n",
      "Epoch count 69: Loss value: 0.09557734429836273\n",
      "Epoch count 70: Loss value: 0.09489664435386658\n",
      "Epoch count 71: Loss value: 0.09427975118160248\n",
      "Epoch count 72: Loss value: 0.09372060745954514\n",
      "Epoch count 73: Loss value: 0.09321393072605133\n",
      "Epoch count 74: Loss value: 0.09275469928979874\n",
      "Epoch count 75: Loss value: 0.09233849495649338\n",
      "Epoch count 76: Loss value: 0.0919613167643547\n",
      "Epoch count 77: Loss value: 0.09161946177482605\n",
      "Epoch count 78: Loss value: 0.09130966663360596\n",
      "Epoch count 79: Loss value: 0.0910288542509079\n"
     ]
    }
   ],
   "source": [
    "linear_model = LinearModel()\n",
    "Weights, Biases = [], []\n",
    "epochs = 80\n",
    "for epoch_count in range(epochs):\n",
    "    Weights.append(linear_model.Weight.numpy()) \n",
    "    Biases.append(linear_model.Bias.numpy())\n",
    "    real_loss = loss(y, linear_model(x))\n",
    "    train(linear_model, x, y, lr=0.12)\n",
    "    print(f\"Epoch count {epoch_count}: Loss value: {real_loss.numpy()}\")"
   ]
  },
  {
   "cell_type": "code",
   "execution_count": 91,
   "metadata": {},
   "outputs": [
    {
     "data": {
      "text/plain": [
       "(2.0066829, 0.8932019)"
      ]
     },
     "execution_count": 91,
     "metadata": {},
     "output_type": "execute_result"
    }
   ],
   "source": [
    "linear_model.Weight.numpy(), linear_model.Bias.numpy()"
   ]
  },
  {
   "cell_type": "code",
   "execution_count": 92,
   "metadata": {},
   "outputs": [],
   "source": [
    "RMSE = loss(y, linear_model(x))"
   ]
  },
  {
   "cell_type": "code",
   "execution_count": 93,
   "metadata": {},
   "outputs": [
    {
     "data": {
      "text/plain": [
       "0.09077441"
      ]
     },
     "execution_count": 93,
     "metadata": {},
     "output_type": "execute_result"
    }
   ],
   "source": [
    "RMSE.numpy()"
   ]
  },
  {
   "cell_type": "code",
   "execution_count": null,
   "metadata": {},
   "outputs": [],
   "source": []
  }
 ],
 "metadata": {
  "kernelspec": {
   "display_name": "Python 3",
   "language": "python",
   "name": "python3"
  },
  "language_info": {
   "codemirror_mode": {
    "name": "ipython",
    "version": 3
   },
   "file_extension": ".py",
   "mimetype": "text/x-python",
   "name": "python",
   "nbconvert_exporter": "python",
   "pygments_lexer": "ipython3",
   "version": "3.6.6"
  }
 },
 "nbformat": 4,
 "nbformat_minor": 2
}
